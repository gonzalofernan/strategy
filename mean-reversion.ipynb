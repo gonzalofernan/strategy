{
 "metadata": {
  "language_info": {
   "codemirror_mode": {
    "name": "ipython",
    "version": 3
   },
   "file_extension": ".py",
   "mimetype": "text/x-python",
   "name": "python",
   "nbconvert_exporter": "python",
   "pygments_lexer": "ipython3",
   "version": "3.8.0-final"
  },
  "orig_nbformat": 2,
  "kernelspec": {
   "name": "Python 3.8.0 32-bit",
   "display_name": "Python 3.8.0 32-bit",
   "metadata": {
    "interpreter": {
     "hash": "94a7c4a332c22c0619ef75418bbd0b20468f804b81955761c0e57977e152dbcd"
    }
   }
  }
 },
 "nbformat": 4,
 "nbformat_minor": 2,
 "cells": [
  {
   "cell_type": "code",
   "execution_count": 1,
   "metadata": {},
   "outputs": [],
   "source": [
    "\n",
    "import pandas as pd\n",
    "from numpy import cumsum, polyfit, log, sqrt, std, subtract\n",
    "import numpy as np\n",
    "import datetime\n",
    "import statsmodels.tsa.stattools as ts\n",
    "import os \n",
    "from pandas_datareader import data as pdr"
   ]
  },
  {
   "cell_type": "code",
   "execution_count": 2,
   "metadata": {},
   "outputs": [
    {
     "output_type": "stream",
     "name": "stdout",
     "text": [
      "['BTCUSD=X', 'ETHUSD=X', 'EURUSD=X', 'JPY=X', 'GBPUSD=X', 'AUDUSD=X', 'NZDUSD=X', 'EURJPY=X', 'GBPJPY=X', 'EURGBP=X', 'EURCAD=X', 'EURSEK=X', 'EURCHF=X', 'EURHUF=X', 'EURJPY=X', 'CNY=X', 'HKD=X', 'SGD=X', 'INR=X', 'MXN=X', 'PHP=X', 'IDR=X', 'THB=X', 'MYR=X', 'ZAR=X', 'RUB=X']\n"
     ]
    }
   ],
   "source": [
    "#Arrays donde vamos a guardar los tickers que cumplan mean reversion al 99% o al 95%\n",
    "mr_arr99 = []\n",
    "mr_arr95 = [] \n",
    "mr_arr90 = []\n",
    "\n",
    "#Pares de forex\n",
    "table=pd.read_html('https://finance.yahoo.com/currencies/')\n",
    "#Los tickers del S&P500\n",
    "#table=pd.read_html('https://en.wikipedia.org/wiki/List_of_S%26P_500_companies')\n",
    "\n",
    "df = table[0] \n",
    "ticker_list=df['Symbol'].tolist() \n",
    "print(ticker_list)\n",
    "#Elegimos fechas sobre los que haremos los estudios de las series \n",
    "start = datetime.datetime.now() - datetime.timedelta(days=2*365)\n",
    "end = datetime.datetime.now() - datetime.timedelta(days=365)"
   ]
  },
  {
   "cell_type": "code",
   "execution_count": 3,
   "metadata": {},
   "outputs": [],
   "source": [
    "#Definir el exponente de HURST \n",
    "\n",
    "def hurst_exponent(data):\n",
    "    \"\"\"\n",
    "    calculate HE on our time series data\n",
    "    args:\n",
    "        data: pandas dataframe of data\n",
    "        lags: array of our lag range, default 2 to 20\n",
    "    returns:\n",
    "        float, HE value\n",
    "    \"\"\"\n",
    "    lags = range(2,100)\n",
    "    tau = [sqrt(std(subtract(data[lag:], data[:-lag]))) for lag in lags]\n",
    "    m = np.polyfit(log(lags), log(tau), 1)\n",
    "    hurst = m[0]*2\n",
    "    return hurst\n"
   ]
  },
  {
   "cell_type": "code",
   "execution_count": 4,
   "metadata": {
    "tags": []
   },
   "outputs": [
    {
     "output_type": "stream",
     "name": "stdout",
     "text": [
      "Analizando BTCUSD=X...\n",
      ".\n",
      "Analizando ETHUSD=X...\n",
      ".\n",
      "Analizando EURUSD=X...\n",
      ".\n",
      "Analizando JPY=X...\n",
      ".\n",
      "Analizando GBPUSD=X...\n",
      ".\n",
      "Analizando AUDUSD=X...\n",
      ".\n",
      "Analizando NZDUSD=X...\n",
      ".\n",
      "Analizando EURJPY=X...\n",
      ".\n",
      "Analizando GBPJPY=X...\n",
      ".\n",
      "Analizando EURGBP=X...\n",
      ".\n",
      "Analizando EURCAD=X...\n",
      ".\n",
      "Analizando EURSEK=X...\n",
      ".\n",
      "Analizando EURCHF=X...\n",
      ".\n",
      "Analizando EURHUF=X...\n",
      ".\n",
      "Analizando EURJPY=X...\n",
      ".\n",
      "Analizando CNY=X...\n",
      ".\n",
      "Analizando HKD=X...\n",
      ".\n",
      "Analizando SGD=X...\n",
      ".\n",
      "Analizando INR=X...\n",
      "INR=X\n",
      "Analizando MXN=X...\n",
      ".\n",
      "Analizando PHP=X...\n",
      ".\n",
      "Analizando IDR=X...\n",
      "IDR=X\n",
      "Analizando THB=X...\n",
      ".\n",
      "Analizando MYR=X...\n",
      ".\n",
      "Analizando ZAR=X...\n",
      ".\n",
      "Analizando RUB=X...\n",
      ".\n"
     ]
    }
   ],
   "source": [
    "#Comprobamos ADF por cada ticker, y vamos guardando en los array \n",
    "for ticker in ticker_list: \n",
    "    try:        \n",
    "        df= pdr.get_data_yahoo(ticker,start= start, end= end) \n",
    "        print(f'Analizando {ticker}...')\n",
    "        df=df['Close']\n",
    "        \n",
    "        result= ts.adfuller(df,1)\n",
    "        \n",
    "        hurst = hurst_exponent(df.values)  \n",
    "        \n",
    "        # Añadimos los tickers a los arrays si pasan el test de Augmented Dickey Fuller \n",
    "        if  result[0] < result[4]['1%'] and hurst < 0.45 : \n",
    "            mr_arr99.append(f'{ticker}:  {hurst}')\n",
    "            print(ticker)\n",
    "        elif result[0] < result[4]['5%'] and hurst < 0.48 : \n",
    "            mr_arr95.append(f'{ticker}:  {hurst}')\n",
    "            print(ticker)\n",
    "        elif result[0] < result[4]['10%'] and hurst < 0.5 :  \n",
    "            mr_arr90.append(f'{ticker}:  {hurst}') \n",
    "            print(ticker)\n",
    "        else: \n",
    "            print('.')\n",
    "    except:\n",
    "        pass\n",
    "    \n",
    "\n",
    "\n",
    "\n",
    "\n"
   ]
  },
  {
   "cell_type": "code",
   "execution_count": 5,
   "metadata": {},
   "outputs": [
    {
     "output_type": "stream",
     "name": "stdout",
     "text": [
      "[]\n"
     ]
    }
   ],
   "source": [
    "print(mr_arr90)"
   ]
  },
  {
   "cell_type": "code",
   "execution_count": 6,
   "metadata": {},
   "outputs": [
    {
     "output_type": "stream",
     "name": "stdout",
     "text": [
      "['INR=X:  0.2948573834716733']\n"
     ]
    }
   ],
   "source": [
    "print(mr_arr95)"
   ]
  },
  {
   "cell_type": "code",
   "execution_count": 7,
   "metadata": {},
   "outputs": [
    {
     "output_type": "stream",
     "name": "stdout",
     "text": [
      "['IDR=X:  0.2395958595837631']\n"
     ]
    }
   ],
   "source": [
    "print(mr_arr99)"
   ]
  },
  {
   "cell_type": "code",
   "execution_count": null,
   "metadata": {},
   "outputs": [],
   "source": []
  }
 ]
}